{
 "cells": [
  {
   "cell_type": "code",
   "execution_count": 1,
   "metadata": {},
   "outputs": [],
   "source": [
    "import ee\n",
    "import geemap\n",
    "import geemap.eefolium as emap "
   ]
  },
  {
   "cell_type": "code",
   "execution_count": 2,
   "metadata": {},
   "outputs": [
    {
     "data": {
      "text/html": [
       "<p>To authorize access needed by Earth Engine, open the following\n",
       "        URL in a web browser and follow the instructions:</p>\n",
       "        <p><a href=https://accounts.google.com/o/oauth2/auth?client_id=517222506229-vsmmajv00ul0bs7p89v5m89qs8eb9359.apps.googleusercontent.com&scope=https%3A%2F%2Fwww.googleapis.com%2Fauth%2Fearthengine+https%3A%2F%2Fwww.googleapis.com%2Fauth%2Fdevstorage.full_control&redirect_uri=urn%3Aietf%3Awg%3Aoauth%3A2.0%3Aoob&response_type=code&code_challenge=DBW83deEUO96vqhYSQbpyJJ9OkMDJ_am0ebH68GPZ1o&code_challenge_method=S256>https://accounts.google.com/o/oauth2/auth?client_id=517222506229-vsmmajv00ul0bs7p89v5m89qs8eb9359.apps.googleusercontent.com&scope=https%3A%2F%2Fwww.googleapis.com%2Fauth%2Fearthengine+https%3A%2F%2Fwww.googleapis.com%2Fauth%2Fdevstorage.full_control&redirect_uri=urn%3Aietf%3Awg%3Aoauth%3A2.0%3Aoob&response_type=code&code_challenge=DBW83deEUO96vqhYSQbpyJJ9OkMDJ_am0ebH68GPZ1o&code_challenge_method=S256</a></p>\n",
       "        <p>The authorization workflow will generate a code, which you\n",
       "        should paste in the box below</p>\n",
       "        "
      ],
      "text/plain": [
       "<IPython.core.display.HTML object>"
      ]
     },
     "metadata": {},
     "output_type": "display_data"
    },
    {
     "name": "stdout",
     "output_type": "stream",
     "text": [
      "Enter verification code: 4/0gEMyJeH6yGeUz2sYPjxzRgcB5UVlhl7bKZ_vF-kQlUpezTc8zwGXXw\n",
      "\n",
      "Successfully saved authorization token.\n"
     ]
    }
   ],
   "source": [
    "ee.Authenticate()\n",
    "ee.Initialize()"
   ]
  },
  {
   "cell_type": "code",
   "execution_count": 3,
   "metadata": {},
   "outputs": [
    {
     "name": "stdout",
     "output_type": "stream",
     "text": [
      "Tanggal Awal:2018-01-01\n",
      "Tanggal Akhir:2020-06-05\n"
     ]
    }
   ],
   "source": [
    "#Variabel\n",
    "start = input(\"Tanggal Awal:\")\n",
    "finish = input(\"Tanggal Akhir:\")\n",
    "bounds = ee.Geometry.Rectangle(110, -6.4, 112, -7.78)"
   ]
  },
  {
   "cell_type": "code",
   "execution_count": 4,
   "metadata": {},
   "outputs": [],
   "source": [
    "#Image Colection1\n",
    "imagecol = ee.ImageCollection(\"COPERNICUS/S2\").filterDate(start, finish).filterBounds(bounds).filter('CLOUDY_PIXEL_PERCENTAGE < 5').median()"
   ]
  },
  {
   "cell_type": "code",
   "execution_count": 59,
   "metadata": {},
   "outputs": [],
   "source": [
    "#Image Colection2\n",
    "imagecol = ee.ImageCollection(\"COPERNICUS/S2\").filterDate(start, finish).filterBounds(bounds).filter('CLOUDY_PIXEL_PERCENTAGE < 5').median()\n",
    "imagecol1 = ee.ImageCollection(\"COPERNICUS/S2\").filterDate('2013-01-01', '2017-12-30').filterBounds(bounds).filter('CLOUDY_PIXEL_PERCENTAGE < 5').median()"
   ]
  },
  {
   "cell_type": "code",
   "execution_count": 15,
   "metadata": {},
   "outputs": [
    {
     "name": "stdout",
     "output_type": "stream",
     "text": [
      "Lokasi shp:D:\\Cloud Computing\\SHP GUNUNG KIDUL\\BATAS_ADMINISTRASI.shp\n"
     ]
    }
   ],
   "source": [
    "#Input ROI\n",
    "roi = geemap.shp_to_ee(input(\"Lokasi shp:\"))"
   ]
  },
  {
   "cell_type": "code",
   "execution_count": 18,
   "metadata": {},
   "outputs": [],
   "source": [
    "#Raster Calculator\n",
    "NDVI = imagecol.expression('(NIR - RED)/(NIR + RED)',\n",
    "                          {'NIR': imagecol.select('B8'),\n",
    "                          'RED': imagecol.select('B4')})"
   ]
  },
  {
   "cell_type": "code",
   "execution_count": 60,
   "metadata": {},
   "outputs": [],
   "source": [
    "#Raster Calculator\n",
    "NDVI1 = imagecol1.expression('(NIR - RED)/(NIR + RED)',\n",
    "                             {'NIR': imagecol1.select('B8'),\n",
    "                              'RED': imagecol1.select('B4')})"
   ]
  },
  {
   "cell_type": "code",
   "execution_count": 36,
   "metadata": {},
   "outputs": [],
   "source": [
    "#Raster Calculator\n",
    "leftlayer = geemap.ee_tile_layer(imagecol.clip(roi),\n",
    "                                 {'bands':['B4', 'B3','B2'],\n",
    "                                  'min':0, 'max':2500},\n",
    "                                 name='ImageCollection')\n",
    "rightlayer = geemap.ee_tile_layer(NDVI.clip(roi),\n",
    "                                  {'palette': ['red', 'yellow', 'green']},\n",
    "                                  name='NDVI')"
   ]
  },
  {
   "cell_type": "code",
   "execution_count": 90,
   "metadata": {},
   "outputs": [
    {
     "data": {
      "application/vnd.jupyter.widget-view+json": {
       "model_id": "f436d584a1c54ee1a2442368ad3d2425",
       "version_major": 2,
       "version_minor": 0
      },
      "text/plain": [
       "Map(center=[-7.91, 110.64], controls=(WidgetControl(options=['position'], widget=HBox(children=(ToggleButton(v…"
      ]
     },
     "metadata": {},
     "output_type": "display_data"
    }
   ],
   "source": [
    "#Visualisasi Layer\n",
    "Map = geemap.Map()\n",
    "Map.set_center(110.64, -7.91, zoom=12)\n",
    "Map.addLayer(imagecol.clip(roi),\n",
    "             {'bands':['B4', 'B3','B2'], 'min':0,'max':2500}, name='ImageCollection')\n",
    "Map.addLayer(NDVI.clip(roi),\n",
    "            {'palette': ['red', 'yellow', 'green']},\n",
    "            name='NDVI')\n",
    "Map"
   ]
  },
  {
   "cell_type": "code",
   "execution_count": 65,
   "metadata": {},
   "outputs": [],
   "source": [
    "#Split Variable\n",
    "NDVI1tile = geemap.ee_tile_layer(NDVI1.clip(roi),\n",
    "                                 {'palette': ['red', 'yellow', 'green']},\n",
    "                                 name='NDVI1')\n",
    "NDVI2tile = geemap.ee_tile_layer(NDVI.clip(roi),\n",
    "                                 {'palette': ['red', 'yellow', 'green']},\n",
    "                                 name='NDVI2')"
   ]
  },
  {
   "cell_type": "code",
   "execution_count": 66,
   "metadata": {},
   "outputs": [
    {
     "data": {
      "application/vnd.jupyter.widget-view+json": {
       "model_id": "46ac9398253247a3b8d9a19ac3b4d64f",
       "version_major": 2,
       "version_minor": 0
      },
      "text/plain": [
       "Map(center=[-7.994035739567542, 110.61208091551455], controls=(WidgetControl(options=['position'], widget=HBox…"
      ]
     },
     "metadata": {},
     "output_type": "display_data"
    }
   ],
   "source": [
    "#Visualisasi Split\n",
    "Map = geemap.Map()\n",
    "Map.centerObject(roi, zoom=12)\n",
    "\n",
    "Map.split_map(NDVI1tile, NDVI2tile)\n",
    "\n",
    "Map"
   ]
  },
  {
   "cell_type": "code",
   "execution_count": 71,
   "metadata": {},
   "outputs": [],
   "source": [
    "#Visualisasi TimeSeries\n",
    "sentinel_ts = geemap.sentinel2_timeseries(roi=roi, start_year=2015, end_year=2020, start_date='01-01', end_date='12-30')"
   ]
  },
  {
   "cell_type": "code",
   "execution_count": 82,
   "metadata": {},
   "outputs": [
    {
     "name": "stdout",
     "output_type": "stream",
     "text": [
      "['Sentinel2_2015', 'Sentinel2_2016', 'Sentinel2_2017', 'Sentinel2_2018', 'Sentinel2_2019', 'Sentinel2_2020']\n"
     ]
    }
   ],
   "source": [
    "layer_names = ['Sentinel2_' + str(year) for year in range(2015,2021)]\n",
    "print(layer_names)"
   ]
  },
  {
   "cell_type": "code",
   "execution_count": 85,
   "metadata": {},
   "outputs": [],
   "source": [
    "sentinel_vis = {'bands':['Red', 'Green','Blue'], 'min':0,'max':2500}"
   ]
  },
  {
   "cell_type": "code",
   "execution_count": 86,
   "metadata": {},
   "outputs": [
    {
     "data": {
      "application/vnd.jupyter.widget-view+json": {
       "model_id": "34fb592b07f4497c825fb0eb7f6ec38f",
       "version_major": 2,
       "version_minor": 0
      },
      "text/plain": [
       "Map(center=[-7.994035739567542, 110.61208091551455], controls=(WidgetControl(options=['position'], widget=Drop…"
      ]
     },
     "metadata": {},
     "output_type": "display_data"
    }
   ],
   "source": [
    "Map = geemap.Map()\n",
    "Map.centerObject(roi, zoom=12)\n",
    "Map.ts_inspector(left_ts=sentinel_ts, right_ts=sentinel_ts, \n",
    "                 left_names=layer_names, right_names=layer_names,\n",
    "                 left_vis=sentinel_vis, right_vis=sentinel_vis)\n",
    "Map"
   ]
  },
  {
   "cell_type": "code",
   "execution_count": 48,
   "metadata": {},
   "outputs": [],
   "source": [
    "#Draw Features\n",
    "feature = Map.draw_features\n",
    "polygon = ee.Geometry.MultiPolygon(feature)"
   ]
  },
  {
   "cell_type": "code",
   "execution_count": 34,
   "metadata": {},
   "outputs": [
    {
     "name": "stdout",
     "output_type": "stream",
     "text": [
      "Generating URL ...\n",
      "Downloading data from https://earthengine.googleapis.com/v1alpha/projects/earthengine-legacy/thumbnails/91b9f6073fdf76f4dc9b2a1072c7d983-7dcc7dc55de1eaf5527a39fd5a26d488:getPixels\n",
      "Please wait ...\n",
      "[WinError 32] The process cannot access the file because it is being used by another process: 'D:\\\\Cloud Computing\\\\NDVI.zip'\n"
     ]
    }
   ],
   "source": [
    "#Export Image\n",
    "geemap.ee_export_image(NDVI,\n",
    "                      filename='NDVI.tif', scale=10,\n",
    "                      region=feature.geometry())"
   ]
  },
  {
   "cell_type": "code",
   "execution_count": 91,
   "metadata": {},
   "outputs": [
    {
     "name": "stderr",
     "output_type": "stream",
     "text": [
      "Cloning into 'Palms-Crown-Detection-and-Health-Assessment-with-Python-Arcpy'...\n"
     ]
    }
   ],
   "source": [
    "!git clone https://github.com/SandiRizqi/Palms-Crown-Detection-and-Health-Assessment-with-Python-Arcpy.git"
   ]
  }
 ],
 "metadata": {
  "kernelspec": {
   "display_name": "Python 3",
   "language": "python",
   "name": "python3"
  },
  "language_info": {
   "codemirror_mode": {
    "name": "ipython",
    "version": 3
   },
   "file_extension": ".py",
   "mimetype": "text/x-python",
   "name": "python",
   "nbconvert_exporter": "python",
   "pygments_lexer": "ipython3",
   "version": "3.7.7"
  }
 },
 "nbformat": 4,
 "nbformat_minor": 4
}
